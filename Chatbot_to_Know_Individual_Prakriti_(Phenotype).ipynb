{
  "cells": [
    {
      "cell_type": "code",
      "execution_count": 1,
      "metadata": {
        "id": "zSVTDTF_KXBk"
      },
      "outputs": [],
      "source": [
        "questions=[\n",
        "    \"1. What's your body frame? \\n\\tA. Thin and lean\\n\\tB. Medium\\n\\tC. Wellbuilt\",\n",
        "    \"2. What type of your hair?  \\n\\t A. Dry and with splits end\\n\\t B. Normal,thin,more hair fall\\n\\t C. Greasy,heavy\",\n",
        "    \"3. What's your hair color?  \\n\\t A. Pale brown\\n\\t B. Red or brown\\n\\t C. Jet black\",\n",
        "    \"4. What about your skin?  \\n\\t A. Dry,rough\\n\\t B. Soft,more sweating,acne\\n\\t C. Moist,greasy\",\n",
        "    \"5. What's the color of a yours's skin, especially the face?  \\n\\t A. Dark blackish\\n\\t B. Pink to red\\n\\t C. Glowing,white\",\n",
        "    \"6. What your body weight?  \\n\\t A. Low,difficult to put on weight\\n\\t B. Medium,can easily lose or gain weight\\n\\t C. Overweight,difficult to lose weight\",\n",
        "    \"7. How your nails are?  \\n\\t A. Blackish,small,brittle\\n\\t B. Reddish,small\\n\\t C. Pinkish,big,smooth\",\n",
        "    \"8. What is size and color of the your teeth? \\n\\t A. Very big or very small,irregular, blackish\\n\\t B. Medium sized yellowish\\n\\t C. Large,shinning white\",\n",
        "    \"9. What is your pace of performing work?  \\n\\t A. Fast,always in hurry\\n\\t B.  Medium,emergetic\\n\\t C. Slow,steady\",\n",
        "    \"10. How mental activity are?  \\n\\t A. Quick,restless\\n\\t B. Smart intellect,aggressive\\n\\t C. Calm,stable\"\n",
        "]"
      ]
    },
    {
      "cell_type": "code",
      "execution_count": 2,
      "metadata": {
        "id": "04Jb38yzdM-Y"
      },
      "outputs": [],
      "source": [
        "def calculate_Prakriti_scores():\n",
        "    scores = {\"Vata\": 0, \"Pitta\": 0, \"Kapha\": 0}\n",
        "    for q in questions:\n",
        "      t=0\n",
        "      while(t==0):\n",
        "        answer = input(q+\"\\n\")\n",
        "        if answer.upper() == \"A\":\n",
        "          scores[\"Vata\"] += 1\n",
        "          t=1\n",
        "        elif answer.upper() == \"B\":\n",
        "          scores[\"Pitta\"] += 1\n",
        "          t=1\n",
        "        elif answer.upper() == \"C\":\n",
        "          scores[\"Kapha\"] += 1\n",
        "          t=1\n",
        "        else:\n",
        "          print(\"Please enter the correct option !!!\")\n",
        "    return scores"
      ]
    },
    {
      "cell_type": "code",
      "execution_count": 3,
      "metadata": {
        "id": "0lwfR8pOdTa8"
      },
      "outputs": [],
      "source": [
        "def main():\n",
        "    print(\"Welcome to the Prakriti Type Chatbot!\")\n",
        "    name = input(\"What's your name? \")\n",
        "    print(f\"Hello, {name}!\")\n",
        "\n",
        "    print(\"Let's determine your Prakriti type.\")\n",
        "    scores = calculate_Prakriti_scores()\n",
        "    print(scores)\n",
        "    piechart(scores)\n"
      ]
    },
    {
      "cell_type": "code",
      "source": [
        "import matplotlib.pyplot as plt\n",
        "import numpy as np"
      ],
      "metadata": {
        "id": "r8Vi1yGbWnX_"
      },
      "execution_count": 5,
      "outputs": []
    },
    {
      "cell_type": "code",
      "execution_count": 6,
      "metadata": {
        "id": "MhXeZ3zXmF8s"
      },
      "outputs": [],
      "source": [
        "def piechart(scores):\n",
        "  y = np.array([scores[i] for i in scores])\n",
        "  mylabels = [i for i in scores]\n",
        "  ex=[]\n",
        "  for i in y:\n",
        "    ex.append(0.1 if max(y)==i else 0)\n",
        "  plt.pie(y, labels = mylabels, shadow=True, explode=tuple(ex),autopct='%0.2f%%')\n",
        "  plt.title('Prakriti Type')\n",
        "  plt.show()"
      ]
    },
    {
      "cell_type": "code",
      "execution_count": 7,
      "metadata": {
        "colab": {
          "base_uri": "https://localhost:8080/",
          "height": 1000
        },
        "id": "ucITgP70dTZH",
        "outputId": "9b7489f4-cd22-42de-c500-daab3750535d"
      },
      "outputs": [
        {
          "output_type": "stream",
          "name": "stdout",
          "text": [
            "Welcome to the Prakriti Type Chatbot!\n",
            "What's your name? fghj\n",
            "Hello, fghj!\n",
            "Let's determine your Prakriti type.\n",
            "1. What's your body frame? \n",
            "\tA. Thin and lean\n",
            "\tB. Medium\n",
            "\tC. Wellbuilt\n",
            "A\n",
            "2. What type of your hair?  \n",
            "\t A. Dry and with splits end\n",
            "\t B. Normal,thin,more hair fall\n",
            "\t C. Greasy,heavy\n",
            "B\n",
            "3. What's your hair color?  \n",
            "\t A. Pale brown\n",
            "\t B. Red or brown\n",
            "\t C. Jet black\n",
            "C\n",
            "4. What about your skin?  \n",
            "\t A. Dry,rough\n",
            "\t B. Soft,more sweating,acne\n",
            "\t C. Moist,greasy\n",
            "A\n",
            "5. What's the color of a yours's skin, especially the face?  \n",
            "\t A. Dark blackish\n",
            "\t B. Pink to red\n",
            "\t C. Glowing,white\n",
            "B\n",
            "6. What your body weight?  \n",
            "\t A. Low,difficult to put on weight\n",
            "\t B. Medium,can easily lose or gain weight\n",
            "\t C. Overweight,difficult to lose weight\n",
            "A\n",
            "7. How your nails are?  \n",
            "\t A. Blackish,small,brittle\n",
            "\t B. Reddish,small\n",
            "\t C. Pinkish,big,smooth\n",
            "C\n",
            "8. What is size and color of the your teeth? \n",
            "\t A. Very big or very small,irregular, blackish\n",
            "\t B. Medium sized yellowish\n",
            "\t C. Large,shinning white\n",
            "\n",
            "Please enter the correct option !!!\n",
            "8. What is size and color of the your teeth? \n",
            "\t A. Very big or very small,irregular, blackish\n",
            "\t B. Medium sized yellowish\n",
            "\t C. Large,shinning white\n",
            "A\n",
            "9. What is your pace of performing work?  \n",
            "\t A. Fast,always in hurry\n",
            "\t B.  Medium,emergetic\n",
            "\t C. Slow,steady\n",
            "C\n",
            "10. How mental activity are?  \n",
            "\t A. Quick,restless\n",
            "\t B. Smart intellect,aggressive\n",
            "\t C. Calm,stable\n",
            "B\n",
            "{'Vata': 4, 'Pitta': 3, 'Kapha': 3}\n"
          ]
        },
        {
          "output_type": "display_data",
          "data": {
            "text/plain": [
              "<Figure size 640x480 with 1 Axes>"
            ],
            "image/png": "[encoded data removed]"
          },
          "metadata": {}
        }
      ],
      "source": [
        "main()\n"
      ]
    },
    {
      "cell_type": "code",
      "execution_count": null,
      "metadata": {
        "colab": {
          "background_save": true
        },
        "id": "x5fLZciPmEGJ"
      },
      "outputs": [],
      "source": []
    }
  ],
  "metadata": {
    "colab": {
      "provenance": []
    },
    "kernelspec": {
      "display_name": "Python 3",
      "name": "python3"
    },
    "language_info": {
      "name": "python"
    }
  },
  "nbformat": 4,
  "nbformat_minor": 0
}